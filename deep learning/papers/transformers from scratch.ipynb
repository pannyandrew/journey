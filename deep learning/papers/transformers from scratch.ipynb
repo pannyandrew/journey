{
 "cells": [
  {
   "cell_type": "markdown",
   "id": "9b6b594b",
   "metadata": {},
   "source": [
    "# [Transformers from Scratch](https://peterbloem.nl/blog/transformers)\n",
    "## Peter Bloem\n",
    "\n",
    "I'm going to be implementing a transformer model from scratch based off of this paper in order to learn more about attention and transformers."
   ]
  },
  {
   "cell_type": "code",
   "execution_count": 1,
   "id": "17553222",
   "metadata": {},
   "outputs": [],
   "source": [
    "import torch\n",
    "import torch.nn.functional as F"
   ]
  },
  {
   "cell_type": "markdown",
   "id": "fab91359",
   "metadata": {},
   "source": [
    "The first thing we should do is work out how to express the self attention in matrix multiplications.  \n",
    "We will represent the input, a sequence of **t** vectors of dimension **k** as a **t** by **k** matrix **X**. Including a minibatch dimension **b** gives us an input tensor of   \n",
    "size (**b**, **t**, **k**)."
   ]
  },
  {
   "cell_type": "code",
   "execution_count": null,
   "id": "251636a5",
   "metadata": {},
   "outputs": [],
   "source": []
  }
 ],
 "metadata": {
  "kernelspec": {
   "display_name": "disease_class",
   "language": "python",
   "name": "disease_class"
  },
  "language_info": {
   "codemirror_mode": {
    "name": "ipython",
    "version": 3
   },
   "file_extension": ".py",
   "mimetype": "text/x-python",
   "name": "python",
   "nbconvert_exporter": "python",
   "pygments_lexer": "ipython3",
   "version": "3.10.11"
  }
 },
 "nbformat": 4,
 "nbformat_minor": 5
}
